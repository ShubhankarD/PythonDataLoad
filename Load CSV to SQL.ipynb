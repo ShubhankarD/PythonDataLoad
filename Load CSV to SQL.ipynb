{
 "cells": [
  {
   "cell_type": "code",
   "execution_count": 1,
   "metadata": {},
   "outputs": [],
   "source": [
    "import os\n",
    "import pandas as pd\n",
    "import numpy as np\n",
    "import csv\n",
    "import sys\n",
    "import codecs\n",
    "import pyodbc\n",
    "import urllib\n",
    "import sqlalchemy\n",
    "pd.options.display.max_columns = None\n",
    "from tqdm import tqdm"
   ]
  },
  {
   "cell_type": "code",
   "execution_count": 2,
   "metadata": {},
   "outputs": [],
   "source": [
    "input_path = r\"\""
   ]
  },
  {
   "cell_type": "markdown",
   "metadata": {},
   "source": [
    "1. Rename files from XLS to CSV"
   ]
  },
  {
   "cell_type": "code",
   "execution_count": 18,
   "metadata": {
    "scrolled": false
   },
   "outputs": [],
   "source": [
    "for filename in os.listdir(input_path):\n",
    "    infilename = os.path.join(input_path,filename)\n",
    "    if not os.path.isfile(infilename): continue\n",
    "    oldbase = os.path.splitext(filename)\n",
    "    newname = infilename.replace('.txt', '.csv')\n",
    "    output = os.rename(infilename, newname)"
   ]
  },
  {
   "cell_type": "markdown",
   "metadata": {},
   "source": [
    "2. Create list of file path"
   ]
  },
  {
   "cell_type": "code",
   "execution_count": 3,
   "metadata": {},
   "outputs": [],
   "source": [
    "#get a list of files and filepaths from our destination folder\n",
    "\n",
    "#empty list for filepaths\n",
    "paths = [] \n",
    "\n",
    "#empty list for filenames\n",
    "fns = []\n",
    "\n",
    "for root, dirs, files in os.walk(input_path):\n",
    "    for name in files:\n",
    "        paths.append(os.path.join(root, name))\n",
    "        fns.append(name)"
   ]
  },
  {
   "cell_type": "markdown",
   "metadata": {},
   "source": [
    "SET DESTINATION TABLE AND LOADED BY"
   ]
  },
  {
   "cell_type": "code",
   "execution_count": 28,
   "metadata": {},
   "outputs": [],
   "source": [
    "table_name = 'provide_table_name'\n",
    "loaded_by = 'provide_name'"
   ]
  },
  {
   "cell_type": "markdown",
   "metadata": {},
   "source": [
    "3. Create connection strings for SQL table"
   ]
  },
  {
   "cell_type": "code",
   "execution_count": 6,
   "metadata": {},
   "outputs": [
    {
     "name": "stdout",
     "output_type": "stream",
     "text": [
      "['ODBC Driver 17 for SQL Server', 'ODBC Driver 13 for SQL Server']\n"
     ]
    }
   ],
   "source": [
    "server = '###.##.##.##' \n",
    "database = '#########' \n",
    "username = '############' \n",
    "password = '#########'\n",
    "\n",
    "#select appropritate Driver for SQL Connections\n",
    "driver_name = ''\n",
    "driver_names = [x for x in pyodbc.drivers() if x.endswith(' for SQL Server')]\n",
    "print(driver_names)\n",
    "if driver_names:\n",
    "    driver_name = driver_names[0]\n",
    "else:\n",
    "    print('(No suitable driver found. Cannot connect.)')\n",
    "\n",
    "params = urllib.parse.quote_plus('DRIVER={}'.format(driver_name)+';SERVER='+server+';DATABASE='+database+';UID='+username+';PWD='+ password)\n",
    "engine = sqlalchemy.create_engine(\"mssql+pyodbc:///?odbc_connect=%s\" % params)\n",
    "\n",
    "\n",
    "def chunker(seq, size):\n",
    "    return (seq[pos:pos + size] for pos in range(0, len(seq), size))\n",
    "\n",
    "#progressbar\n",
    "def insert_with_progress(df):\n",
    "    chunksize = int(len(df) / 20) # 10%\n",
    "    with tqdm(total=len(df)) as pbar:\n",
    "        for i, cdf in enumerate(chunker(df, chunksize)):\n",
    "            replace = \"replace\" if i == 0 else \"append\"\n",
    "            cdf.to_sql(con=engine, name=table_name, if_exists=replace, index=False,schema=\"dbo\")\n",
    "            pbar.update(chunksize)\n",
    "\n",
    "#Set cursor.fast_executemany = True using events\n",
    "\n",
    "@sqlalchemy.event.listens_for(engine, \"before_cursor_execute\")\n",
    "\n",
    "def receive_before_cursor_execute(conn, cursor, statement, params, context, executemany):\n",
    "            if executemany:\n",
    "                cursor.fast_executemany = True\n",
    "\n",
    "#Test Connection\n",
    "# sql = (\"select * from testing\")\n",
    "# data = pd.read_sql(sql,engine)\n",
    "# data"
   ]
  },
  {
   "cell_type": "code",
   "execution_count": null,
   "metadata": {},
   "outputs": [],
   "source": []
  },
  {
   "cell_type": "markdown",
   "metadata": {},
   "source": [
    "4. Provide New Column Names"
   ]
  },
  {
   "cell_type": "code",
   "execution_count": 7,
   "metadata": {},
   "outputs": [],
   "source": [
    "new_column_names = []"
   ]
  },
  {
   "cell_type": "markdown",
   "metadata": {},
   "source": [
    "5. Function to Rename Columns"
   ]
  },
  {
   "cell_type": "code",
   "execution_count": 8,
   "metadata": {},
   "outputs": [],
   "source": [
    "#Funtion to rename columns\n",
    "def rename_column_name(df,new_column_list):\n",
    "    old_column_list = new_df.columns.tolist()\n",
    "    df = df.rename(columns=dict(zip(old_column_list, new_column_list)))\n",
    "    return df"
   ]
  },
  {
   "cell_type": "markdown",
   "metadata": {},
   "source": [
    "6. Function to Change Data type of certain columns"
   ]
  },
  {
   "cell_type": "code",
   "execution_count": 9,
   "metadata": {},
   "outputs": [],
   "source": [
    "#Funtion to change data type of date field and number field\n",
    "def change_datatype(df):\n",
    "    cols = df.dtypes.apply(lambda x: x.name).to_dict()\n",
    "\n",
    "    for c,d in cols.items():\n",
    "        if \"DATE\" in c:\n",
    "            try:\n",
    "                df[c] = pd.to_datetime(df[c]) #change date field to datetime\n",
    "            except:\n",
    "                pass\n",
    "        elif any(item in c for item in ['AMOUNT','AMT']):\n",
    "            try:\n",
    "                mask = df[c].str.endswith('-')\n",
    "                df.loc[mask, c] = '-' + df.loc[mask, c].str[:-1]\n",
    "                df[c] = df[c].str.replace(' ','')\n",
    "                df[c] = df[c].str.replace(',','').apply(pd.to_numeric) #change amount fields to numeric data type\n",
    "            except:\n",
    "                raise Exception\n",
    "        else:\n",
    "            try:\n",
    "                df[c] = df[c].convert_dtypes() #change rest of the fields to string\n",
    "            except:\n",
    "                raise\n",
    "    return df"
   ]
  },
  {
   "cell_type": "markdown",
   "metadata": {},
   "source": [
    "7. Function to drop unwanted columns"
   ]
  },
  {
   "cell_type": "code",
   "execution_count": 10,
   "metadata": {},
   "outputs": [],
   "source": [
    "def drop_unwanted_col(df):\n",
    "    \n",
    "    column_name = df.columns.tolist()\n",
    "    for c in column_name:\n",
    "        if  'Unnamed' in c:\n",
    "            df.drop([c], axis=1, inplace=True)\n",
    "        #elif any(item in c for item in ['Unnamed:','CoCd']):\n",
    "            \n",
    "    return df"
   ]
  },
  {
   "cell_type": "markdown",
   "metadata": {},
   "source": [
    "7. Read through each file and concat data"
   ]
  },
  {
   "cell_type": "code",
   "execution_count": 67,
   "metadata": {
    "scrolled": true
   },
   "outputs": [
    {
     "name": "stdout",
     "output_type": "stream",
     "text": [
      "C:\\Users\\sdash029\\Desktop\\Project Folder\\Project Cardinal\\02242021\\FY18 1496 OFFSET\\2500_2018.csv\n",
      "C:\\Users\\sdash029\\Desktop\\Project Folder\\Project Cardinal\\02242021\\FY18 1496 OFFSET\\2504_2018.csv\n",
      "C:\\Users\\sdash029\\Desktop\\Project Folder\\Project Cardinal\\02242021\\FY18 1496 OFFSET\\6007_2018.csv\n",
      "C:\\Users\\sdash029\\Desktop\\Project Folder\\Project Cardinal\\02242021\\FY18 1496 OFFSET\\6008_2018.csv\n",
      "C:\\Users\\sdash029\\Desktop\\Project Folder\\Project Cardinal\\02242021\\FY18 1496 OFFSET\\6013_2018.csv\n"
     ]
    },
    {
     "ename": "ParserError",
     "evalue": "Error tokenizing data. C error: Expected 44 fields in line 58, saw 46\n",
     "output_type": "error",
     "traceback": [
      "\u001b[1;31m---------------------------------------------------------------------------\u001b[0m",
      "\u001b[1;31mParserError\u001b[0m                               Traceback (most recent call last)",
      "\u001b[1;32m<ipython-input-67-73d00d285dc7>\u001b[0m in \u001b[0;36m<module>\u001b[1;34m\u001b[0m\n\u001b[0;32m      6\u001b[0m \u001b[1;33m\u001b[0m\u001b[0m\n\u001b[0;32m      7\u001b[0m     \u001b[0mprint\u001b[0m\u001b[1;33m(\u001b[0m\u001b[0mone_file\u001b[0m\u001b[1;33m)\u001b[0m\u001b[1;33m\u001b[0m\u001b[1;33m\u001b[0m\u001b[0m\n\u001b[1;32m----> 8\u001b[1;33m     \u001b[0mdf\u001b[0m \u001b[1;33m=\u001b[0m \u001b[0mpd\u001b[0m\u001b[1;33m.\u001b[0m\u001b[0mread_csv\u001b[0m\u001b[1;33m(\u001b[0m\u001b[0mdoc\u001b[0m\u001b[1;33m,\u001b[0m\u001b[0msep\u001b[0m\u001b[1;33m=\u001b[0m\u001b[1;34m'|'\u001b[0m\u001b[1;33m,\u001b[0m\u001b[0mskipinitialspace\u001b[0m\u001b[1;33m=\u001b[0m\u001b[1;32mTrue\u001b[0m\u001b[1;33m,\u001b[0m\u001b[0mskiprows\u001b[0m\u001b[1;33m=\u001b[0m\u001b[1;36m5\u001b[0m\u001b[1;33m,\u001b[0m\u001b[0mlow_memory\u001b[0m\u001b[1;33m=\u001b[0m\u001b[1;32mFalse\u001b[0m\u001b[1;33m,\u001b[0m\u001b[0mquoting\u001b[0m\u001b[1;33m=\u001b[0m\u001b[0mcsv\u001b[0m\u001b[1;33m.\u001b[0m\u001b[0mQUOTE_NONE\u001b[0m\u001b[1;33m)\u001b[0m\u001b[1;33m\u001b[0m\u001b[1;33m\u001b[0m\u001b[0m\n\u001b[0m\u001b[0;32m      9\u001b[0m \u001b[1;33m\u001b[0m\u001b[0m\n\u001b[0;32m     10\u001b[0m \u001b[1;33m\u001b[0m\u001b[0m\n",
      "\u001b[1;32m~\\Anaconda3\\lib\\site-packages\\pandas\\io\\parsers.py\u001b[0m in \u001b[0;36mread_csv\u001b[1;34m(filepath_or_buffer, sep, delimiter, header, names, index_col, usecols, squeeze, prefix, mangle_dupe_cols, dtype, engine, converters, true_values, false_values, skipinitialspace, skiprows, skipfooter, nrows, na_values, keep_default_na, na_filter, verbose, skip_blank_lines, parse_dates, infer_datetime_format, keep_date_col, date_parser, dayfirst, cache_dates, iterator, chunksize, compression, thousands, decimal, lineterminator, quotechar, quoting, doublequote, escapechar, comment, encoding, dialect, error_bad_lines, warn_bad_lines, delim_whitespace, low_memory, memory_map, float_precision)\u001b[0m\n\u001b[0;32m    684\u001b[0m     )\n\u001b[0;32m    685\u001b[0m \u001b[1;33m\u001b[0m\u001b[0m\n\u001b[1;32m--> 686\u001b[1;33m     \u001b[1;32mreturn\u001b[0m \u001b[0m_read\u001b[0m\u001b[1;33m(\u001b[0m\u001b[0mfilepath_or_buffer\u001b[0m\u001b[1;33m,\u001b[0m \u001b[0mkwds\u001b[0m\u001b[1;33m)\u001b[0m\u001b[1;33m\u001b[0m\u001b[1;33m\u001b[0m\u001b[0m\n\u001b[0m\u001b[0;32m    687\u001b[0m \u001b[1;33m\u001b[0m\u001b[0m\n\u001b[0;32m    688\u001b[0m \u001b[1;33m\u001b[0m\u001b[0m\n",
      "\u001b[1;32m~\\Anaconda3\\lib\\site-packages\\pandas\\io\\parsers.py\u001b[0m in \u001b[0;36m_read\u001b[1;34m(filepath_or_buffer, kwds)\u001b[0m\n\u001b[0;32m    456\u001b[0m \u001b[1;33m\u001b[0m\u001b[0m\n\u001b[0;32m    457\u001b[0m     \u001b[1;32mtry\u001b[0m\u001b[1;33m:\u001b[0m\u001b[1;33m\u001b[0m\u001b[1;33m\u001b[0m\u001b[0m\n\u001b[1;32m--> 458\u001b[1;33m         \u001b[0mdata\u001b[0m \u001b[1;33m=\u001b[0m \u001b[0mparser\u001b[0m\u001b[1;33m.\u001b[0m\u001b[0mread\u001b[0m\u001b[1;33m(\u001b[0m\u001b[0mnrows\u001b[0m\u001b[1;33m)\u001b[0m\u001b[1;33m\u001b[0m\u001b[1;33m\u001b[0m\u001b[0m\n\u001b[0m\u001b[0;32m    459\u001b[0m     \u001b[1;32mfinally\u001b[0m\u001b[1;33m:\u001b[0m\u001b[1;33m\u001b[0m\u001b[1;33m\u001b[0m\u001b[0m\n\u001b[0;32m    460\u001b[0m         \u001b[0mparser\u001b[0m\u001b[1;33m.\u001b[0m\u001b[0mclose\u001b[0m\u001b[1;33m(\u001b[0m\u001b[1;33m)\u001b[0m\u001b[1;33m\u001b[0m\u001b[1;33m\u001b[0m\u001b[0m\n",
      "\u001b[1;32m~\\Anaconda3\\lib\\site-packages\\pandas\\io\\parsers.py\u001b[0m in \u001b[0;36mread\u001b[1;34m(self, nrows)\u001b[0m\n\u001b[0;32m   1194\u001b[0m     \u001b[1;32mdef\u001b[0m \u001b[0mread\u001b[0m\u001b[1;33m(\u001b[0m\u001b[0mself\u001b[0m\u001b[1;33m,\u001b[0m \u001b[0mnrows\u001b[0m\u001b[1;33m=\u001b[0m\u001b[1;32mNone\u001b[0m\u001b[1;33m)\u001b[0m\u001b[1;33m:\u001b[0m\u001b[1;33m\u001b[0m\u001b[1;33m\u001b[0m\u001b[0m\n\u001b[0;32m   1195\u001b[0m         \u001b[0mnrows\u001b[0m \u001b[1;33m=\u001b[0m \u001b[0m_validate_integer\u001b[0m\u001b[1;33m(\u001b[0m\u001b[1;34m\"nrows\"\u001b[0m\u001b[1;33m,\u001b[0m \u001b[0mnrows\u001b[0m\u001b[1;33m)\u001b[0m\u001b[1;33m\u001b[0m\u001b[1;33m\u001b[0m\u001b[0m\n\u001b[1;32m-> 1196\u001b[1;33m         \u001b[0mret\u001b[0m \u001b[1;33m=\u001b[0m \u001b[0mself\u001b[0m\u001b[1;33m.\u001b[0m\u001b[0m_engine\u001b[0m\u001b[1;33m.\u001b[0m\u001b[0mread\u001b[0m\u001b[1;33m(\u001b[0m\u001b[0mnrows\u001b[0m\u001b[1;33m)\u001b[0m\u001b[1;33m\u001b[0m\u001b[1;33m\u001b[0m\u001b[0m\n\u001b[0m\u001b[0;32m   1197\u001b[0m \u001b[1;33m\u001b[0m\u001b[0m\n\u001b[0;32m   1198\u001b[0m         \u001b[1;31m# May alter columns / col_dict\u001b[0m\u001b[1;33m\u001b[0m\u001b[1;33m\u001b[0m\u001b[1;33m\u001b[0m\u001b[0m\n",
      "\u001b[1;32m~\\Anaconda3\\lib\\site-packages\\pandas\\io\\parsers.py\u001b[0m in \u001b[0;36mread\u001b[1;34m(self, nrows)\u001b[0m\n\u001b[0;32m   2153\u001b[0m     \u001b[1;32mdef\u001b[0m \u001b[0mread\u001b[0m\u001b[1;33m(\u001b[0m\u001b[0mself\u001b[0m\u001b[1;33m,\u001b[0m \u001b[0mnrows\u001b[0m\u001b[1;33m=\u001b[0m\u001b[1;32mNone\u001b[0m\u001b[1;33m)\u001b[0m\u001b[1;33m:\u001b[0m\u001b[1;33m\u001b[0m\u001b[1;33m\u001b[0m\u001b[0m\n\u001b[0;32m   2154\u001b[0m         \u001b[1;32mtry\u001b[0m\u001b[1;33m:\u001b[0m\u001b[1;33m\u001b[0m\u001b[1;33m\u001b[0m\u001b[0m\n\u001b[1;32m-> 2155\u001b[1;33m             \u001b[0mdata\u001b[0m \u001b[1;33m=\u001b[0m \u001b[0mself\u001b[0m\u001b[1;33m.\u001b[0m\u001b[0m_reader\u001b[0m\u001b[1;33m.\u001b[0m\u001b[0mread\u001b[0m\u001b[1;33m(\u001b[0m\u001b[0mnrows\u001b[0m\u001b[1;33m)\u001b[0m\u001b[1;33m\u001b[0m\u001b[1;33m\u001b[0m\u001b[0m\n\u001b[0m\u001b[0;32m   2156\u001b[0m         \u001b[1;32mexcept\u001b[0m \u001b[0mStopIteration\u001b[0m\u001b[1;33m:\u001b[0m\u001b[1;33m\u001b[0m\u001b[1;33m\u001b[0m\u001b[0m\n\u001b[0;32m   2157\u001b[0m             \u001b[1;32mif\u001b[0m \u001b[0mself\u001b[0m\u001b[1;33m.\u001b[0m\u001b[0m_first_chunk\u001b[0m\u001b[1;33m:\u001b[0m\u001b[1;33m\u001b[0m\u001b[1;33m\u001b[0m\u001b[0m\n",
      "\u001b[1;32mpandas\\_libs\\parsers.pyx\u001b[0m in \u001b[0;36mpandas._libs.parsers.TextReader.read\u001b[1;34m()\u001b[0m\n",
      "\u001b[1;32mpandas\\_libs\\parsers.pyx\u001b[0m in \u001b[0;36mpandas._libs.parsers.TextReader._read_rows\u001b[1;34m()\u001b[0m\n",
      "\u001b[1;32mpandas\\_libs\\parsers.pyx\u001b[0m in \u001b[0;36mpandas._libs.parsers.raise_parser_error\u001b[1;34m()\u001b[0m\n",
      "\u001b[1;31mParserError\u001b[0m: Error tokenizing data. C error: Expected 44 fields in line 58, saw 46\n"
     ]
    }
   ],
   "source": [
    "appended_data = []\n",
    "\n",
    "for one_file in paths:\n",
    "\n",
    "    doc = codecs.open(one_file,'rU','UTF-8')\n",
    "    \n",
    "    print(one_file)\n",
    "    df = pd.read_csv(doc,sep='|',skipinitialspace=True,skiprows=5,low_memory=False,quoting=csv.QUOTE_NONE)\n",
    "    \n",
    "    \n",
    "    #drop extra columns in import\n",
    "    df = drop_unwanted_col(df)\n",
    "    \n",
    "    new_df = df.loc[df['DocumentNo'].notnull()] #drop null in DocumentNo\n",
    "    new_df = new_df[new_df['DocumentNo'].str.contains('[0-9]')] #filter dataframe where DocumentNo is numeric only2\n",
    "      \n",
    "    #Rename Columns\n",
    "    new_df = rename_column_name(new_df,new_column_names)\n",
    "\n",
    "    #change datatype\n",
    "    new_df = change_datatype(new_df)\n",
    "\n",
    "    #Add filename as column\n",
    "    new_df['ADV_FILENAME'] = os.path.basename(one_file)\n",
    "    new_df['ADV_LOADED_BY'] = loaded_by\n",
    "    new_df['ADV_LOAD_DATE'] = pd.Timestamp.now()\n",
    "\n",
    "    # store DataFrame in list\n",
    "    appended_data.append(new_df)\n",
    "    \n",
    "    del(new_df)\n",
    "    del(df)\n",
    "\n",
    "appended_data = pd.concat(appended_data)"
   ]
  },
  {
   "cell_type": "code",
   "execution_count": 29,
   "metadata": {},
   "outputs": [
    {
     "name": "stderr",
     "output_type": "stream",
     "text": [
      "1552068it [35:21, 731.70it/s]                                                                                          \n"
     ]
    }
   ],
   "source": [
    "insert_with_progress(appended_data)"
   ]
  },
  {
   "cell_type": "markdown",
   "metadata": {},
   "source": [
    "8. Testing"
   ]
  },
  {
   "cell_type": "code",
   "execution_count": 21,
   "metadata": {
    "scrolled": true
   },
   "outputs": [],
   "source": [
    "doc = codecs.open(one_file,'rU','UTF-8')\n",
    "\n",
    "df = pd.read_csv(doc,sep='\\t',skipinitialspace=True,skiprows=5,low_memory=False,quoting=csv.QUOTE_NONE)\n",
    "\n",
    "df = drop_unwanted_col(df)\n",
    "\n",
    "new_df = df.loc[df['DocumentNo'].notnull()] #drop null in DocumentNo columns and deselect 3 columns\n",
    "new_df = new_df[new_df['DocumentNo'].str.contains('[0-9]')] #filter dataframe where DocumentNo is numeric only2\n",
    "\n",
    "old_column_names = new_df.columns.tolist()\n",
    "#Rename Columns\n",
    "new_df = rename_column_name(new_df, new_column_names)\n",
    "\n",
    "#change datatype\n",
    "new_df = change_datatype(new_df)\n",
    "\n",
    "#Add filename as column\n",
    "new_df['ADV_FILENAME'] = os.path.basename(one_file)\n",
    "\n"
   ]
  },
  {
   "cell_type": "code",
   "execution_count": 27,
   "metadata": {},
   "outputs": [
    {
     "data": {
      "text/plain": [
       "ADV_FILENAME\n",
       "2500_2018.csv      1287\n",
       "2504_2018.csv     72278\n",
       "6007_2018.csv    457993\n",
       "6008_2018.csv    411388\n",
       "6013_2018.csv     11288\n",
       "6014_2018.csv    397448\n",
       "6501_2018.csv     75935\n",
       "6505_2018.csv     44731\n",
       "6509_2018.csv      3782\n",
       "8003_2018.csv      2048\n",
       "Name: ADV_FILENAME, dtype: int64"
      ]
     },
     "execution_count": 27,
     "metadata": {},
     "output_type": "execute_result"
    }
   ],
   "source": [
    "appended_data.groupby(['ADV_FILENAME'])['ADV_FILENAME'].count()"
   ]
  },
  {
   "cell_type": "code",
   "execution_count": 46,
   "metadata": {},
   "outputs": [],
   "source": [
    "new_df.to_sql('dash_test',engine,index=False,if_exists=\"append\",schema=\"dbo\")"
   ]
  },
  {
   "cell_type": "code",
   "execution_count": 36,
   "metadata": {
    "scrolled": true
   },
   "outputs": [
    {
     "data": {
      "text/html": [
       "<div>\n",
       "<style scoped>\n",
       "    .dataframe tbody tr th:only-of-type {\n",
       "        vertical-align: middle;\n",
       "    }\n",
       "\n",
       "    .dataframe tbody tr th {\n",
       "        vertical-align: top;\n",
       "    }\n",
       "\n",
       "    .dataframe thead th {\n",
       "        text-align: right;\n",
       "    }\n",
       "</style>\n",
       "<table border=\"1\" class=\"dataframe\">\n",
       "  <thead>\n",
       "    <tr style=\"text-align: right;\">\n",
       "      <th></th>\n",
       "      <th>COMPANY_CODE</th>\n",
       "      <th>CUSTOMER</th>\n",
       "      <th>DOCUMENT_NUMBER</th>\n",
       "      <th>DOCUMENT_TYPE</th>\n",
       "      <th>ENTRY_DATE</th>\n",
       "      <th>POSTING_DATE</th>\n",
       "      <th>CLEARING_DOCUMENT</th>\n",
       "      <th>CLEARING_DATE</th>\n",
       "      <th>GL_ACCOUNT</th>\n",
       "      <th>AMOUNT_IN_DOC_CURR</th>\n",
       "      <th>DOCUMENT_CURRENCY</th>\n",
       "      <th>AMOUNT_IN_LOC_CURR_2</th>\n",
       "      <th>LOCAL_CURRENCY_2</th>\n",
       "      <th>AMOUNT_IN_LOCAL_CURRENCY</th>\n",
       "      <th>LOCAL_CURRENCY</th>\n",
       "      <th>TEXT</th>\n",
       "      <th>USER_NAME</th>\n",
       "      <th>COST_CENTER</th>\n",
       "      <th>CROSS_CO_CODE_NO</th>\n",
       "      <th>DOCUMENT_DATE</th>\n",
       "      <th>DOCUMENT_HEADER_TEXT</th>\n",
       "      <th>FISCAL_YEAR</th>\n",
       "      <th>MPM_FAMILY_NUMBER</th>\n",
       "      <th>MPM_ISSUE_NUMBER</th>\n",
       "      <th>MPM_PRODUCT_NUMBER</th>\n",
       "      <th>OFFSETTING_ACCT_NO</th>\n",
       "      <th>ORDER_1</th>\n",
       "      <th>PAYMENT_BLOCK</th>\n",
       "      <th>PAYMENT_DATE</th>\n",
       "      <th>PAYMENT_REFERENCE</th>\n",
       "      <th>POSTING_PERIOD</th>\n",
       "      <th>PROFIT_CENTER</th>\n",
       "      <th>PURCHASING_DOCUMENT</th>\n",
       "      <th>QUANTITY</th>\n",
       "      <th>REFERENCE</th>\n",
       "      <th>REFERENCE_KEY_1</th>\n",
       "      <th>REFERENCE_KEY_2</th>\n",
       "      <th>REFERENCE_KEY_3</th>\n",
       "      <th>REVERSED_WITH</th>\n",
       "      <th>VALUATED_AMT_LOC_CURR_2</th>\n",
       "      <th>WBS_ELEMENT</th>\n",
       "      <th>YEAR_MONTH</th>\n",
       "      <th>ADV_FILENAME</th>\n",
       "      <th>ADV_LOADED_BY</th>\n",
       "      <th>ADV_LOAD_DATE</th>\n",
       "    </tr>\n",
       "  </thead>\n",
       "  <tbody>\n",
       "  </tbody>\n",
       "</table>\n",
       "</div>"
      ],
      "text/plain": [
       "Empty DataFrame\n",
       "Columns: [COMPANY_CODE, CUSTOMER, DOCUMENT_NUMBER, DOCUMENT_TYPE, ENTRY_DATE, POSTING_DATE, CLEARING_DOCUMENT, CLEARING_DATE, GL_ACCOUNT, AMOUNT_IN_DOC_CURR, DOCUMENT_CURRENCY, AMOUNT_IN_LOC_CURR_2, LOCAL_CURRENCY_2, AMOUNT_IN_LOCAL_CURRENCY, LOCAL_CURRENCY, TEXT, USER_NAME, COST_CENTER, CROSS_CO_CODE_NO, DOCUMENT_DATE, DOCUMENT_HEADER_TEXT, FISCAL_YEAR, MPM_FAMILY_NUMBER, MPM_ISSUE_NUMBER, MPM_PRODUCT_NUMBER, OFFSETTING_ACCT_NO, ORDER_1, PAYMENT_BLOCK, PAYMENT_DATE, PAYMENT_REFERENCE, POSTING_PERIOD, PROFIT_CENTER, PURCHASING_DOCUMENT, QUANTITY, REFERENCE, REFERENCE_KEY_1, REFERENCE_KEY_2, REFERENCE_KEY_3, REVERSED_WITH, VALUATED_AMT_LOC_CURR_2, WBS_ELEMENT, YEAR_MONTH, ADV_FILENAME, ADV_LOADED_BY, ADV_LOAD_DATE]\n",
       "Index: []"
      ]
     },
     "execution_count": 36,
     "metadata": {},
     "output_type": "execute_result"
    }
   ],
   "source": [
    "appended_data[~appended_data['PROFIT_CENTER'].str.contains('P')]\n",
    "#to_sql('dash_test_1',engine,index=False,if_exists=\"append\",schema=\"dbo\")"
   ]
  },
  {
   "cell_type": "code",
   "execution_count": 26,
   "metadata": {},
   "outputs": [
    {
     "name": "stdout",
     "output_type": "stream",
     "text": [
      "C:\\Users\\sdash029\\Desktop\\Project Folder\\Project Cardinal\\02242021\\FY18 1496 OFFSET\\2500_2018.csv\n",
      "C:\\Users\\sdash029\\Desktop\\Project Folder\\Project Cardinal\\02242021\\FY18 1496 OFFSET\\2504_2018.csv\n",
      "C:\\Users\\sdash029\\Desktop\\Project Folder\\Project Cardinal\\02242021\\FY18 1496 OFFSET\\6007_2018.csv\n",
      "C:\\Users\\sdash029\\Desktop\\Project Folder\\Project Cardinal\\02242021\\FY18 1496 OFFSET\\6008_2018.csv\n",
      "C:\\Users\\sdash029\\Desktop\\Project Folder\\Project Cardinal\\02242021\\FY18 1496 OFFSET\\6013_2018.csv\n",
      "C:\\Users\\sdash029\\Desktop\\Project Folder\\Project Cardinal\\02242021\\FY18 1496 OFFSET\\6014_2018.csv\n",
      "C:\\Users\\sdash029\\Desktop\\Project Folder\\Project Cardinal\\02242021\\FY18 1496 OFFSET\\6501_2018.csv\n",
      "C:\\Users\\sdash029\\Desktop\\Project Folder\\Project Cardinal\\02242021\\FY18 1496 OFFSET\\6505_2018.csv\n",
      "C:\\Users\\sdash029\\Desktop\\Project Folder\\Project Cardinal\\02242021\\FY18 1496 OFFSET\\6509_2018.csv\n",
      "C:\\Users\\sdash029\\Desktop\\Project Folder\\Project Cardinal\\02242021\\FY18 1496 OFFSET\\8003_2018.csv\n"
     ]
    }
   ],
   "source": [
    "appended_data = []\n",
    "\n",
    "for one_file in paths:\n",
    "    \n",
    "    doc = codecs.open(one_file,'rU','UTF-8')\n",
    "    print(one_file)\n",
    "    \n",
    "    final_df = pd.DataFrame()\n",
    "    new_df = pd.DataFrame()\n",
    "    \n",
    "    df = pd.read_csv(one_file,skiprows=5,sep=';',header=None,skipinitialspace=True)\n",
    "    df = pd.DataFrame(df[0].str.split('|', expand=True))\n",
    "    df = df.loc[df[3].notnull()]\n",
    "    df = df[df[3].str.contains('[0-9]',na=False)]\n",
    "\n",
    "    if df.shape[1] == 44:\n",
    "        #drop extra columns in import\n",
    "\n",
    "        #Rename Columns\n",
    "        new_df = df.drop([0,43],axis=1)\n",
    "        new_df.columns = new_column_names\n",
    "\n",
    "        #change datatype\n",
    "        new_df = change_datatype(new_df)\n",
    "\n",
    "        #Add filename as column\n",
    "        new_df['ADV_FILENAME'] = os.path.basename(one_file)\n",
    "        new_df['ADV_LOADED_BY'] = loaded_by\n",
    "        new_df['ADV_LOAD_DATE'] = pd.Timestamp.now()\n",
    "        \n",
    "    else:\n",
    "        \n",
    "        #with column pc\n",
    "        df_pc = df[~df[40].str.contains(',')]\n",
    "        df_pc = df_pc.drop([0,38,39,45],axis=1)\n",
    "        df_pc.columns = new_column_names\n",
    "        df_pc = change_datatype(df_pc)\n",
    "\n",
    "\n",
    "        #without column pc\n",
    "        df_non_pc = df[df[40].str.contains(',')]\n",
    "        df_non_pc = df_non_pc.drop([0,43,44,45],axis=1)\n",
    "        df_non_pc.columns = new_column_names\n",
    "        df_non_pc = change_datatype(df_non_pc)\n",
    "\n",
    "        final_df = df_pc.append(df_non_pc,ignore_index=True)\n",
    "        final_df.sort_values(by=['COMPANY_CODE', 'POSTING_DATE'],inplace=True)\n",
    "\n",
    "        #Add filename as column\n",
    "        final_df['ADV_FILENAME'] = os.path.basename(one_file)\n",
    "        final_df['ADV_LOADED_BY'] = loaded_by\n",
    "        final_df['ADV_LOAD_DATE'] = pd.Timestamp.now()\n",
    "        \n",
    "    super_final_df = new_df.append(final_df,ignore_index=True)\n",
    "    appended_data.append(super_final_df)\n",
    "\n",
    "#     del(df)\n",
    "#     del(final_df)\n",
    "#     del(new_df)\n",
    "#     del(df_pc)\n",
    "#     del(df_non_pc)\n",
    "#     del(super_final_df)\n",
    "\n",
    "appended_data = pd.concat(appended_data)"
   ]
  },
  {
   "cell_type": "code",
   "execution_count": 24,
   "metadata": {},
   "outputs": [],
   "source": []
  }
 ],
 "metadata": {
  "kernelspec": {
   "display_name": "Python 3",
   "language": "python",
   "name": "python3"
  },
  "language_info": {
   "codemirror_mode": {
    "name": "ipython",
    "version": 3
   },
   "file_extension": ".py",
   "mimetype": "text/x-python",
   "name": "python",
   "nbconvert_exporter": "python",
   "pygments_lexer": "ipython3",
   "version": "3.8.5"
  }
 },
 "nbformat": 4,
 "nbformat_minor": 4
}
